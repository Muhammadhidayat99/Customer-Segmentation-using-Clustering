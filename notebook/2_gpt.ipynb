{
 "cells": [
  {
   "cell_type": "code",
   "execution_count": 10,
   "id": "6e00a1a8",
   "metadata": {},
   "outputs": [],
   "source": [
    "import pandas as pd\n",
    "\n",
    "# Load the uploaded CSV file\n",
    "file_path = \"D:\\internship\\customer_segmentation\\data\\customer_transactions_mock_data.csv\"\n",
    "df = pd.read_csv(file_path)\n",
    "\n",
    "\n"
   ]
  },
  {
   "cell_type": "code",
   "execution_count": 11,
   "id": "fa46a9b9",
   "metadata": {},
   "outputs": [
    {
     "data": {
      "text/html": [
       "<div>\n",
       "<style scoped>\n",
       "    .dataframe tbody tr th:only-of-type {\n",
       "        vertical-align: middle;\n",
       "    }\n",
       "\n",
       "    .dataframe tbody tr th {\n",
       "        vertical-align: top;\n",
       "    }\n",
       "\n",
       "    .dataframe thead th {\n",
       "        text-align: right;\n",
       "    }\n",
       "</style>\n",
       "<table border=\"1\" class=\"dataframe\">\n",
       "  <thead>\n",
       "    <tr style=\"text-align: right;\">\n",
       "      <th></th>\n",
       "      <th>TransactionID</th>\n",
       "      <th>CustomerID</th>\n",
       "      <th>TransactionDate</th>\n",
       "      <th>ProductID</th>\n",
       "      <th>Quantity</th>\n",
       "      <th>UnitPrice</th>\n",
       "      <th>TotalPrice</th>\n",
       "    </tr>\n",
       "  </thead>\n",
       "  <tbody>\n",
       "    <tr>\n",
       "      <th>0</th>\n",
       "      <td>TRX50000_0</td>\n",
       "      <td>CUST1302</td>\n",
       "      <td>2022-01-12</td>\n",
       "      <td>Prod_107</td>\n",
       "      <td>3</td>\n",
       "      <td>53.74</td>\n",
       "      <td>161.22</td>\n",
       "    </tr>\n",
       "    <tr>\n",
       "      <th>1</th>\n",
       "      <td>TRX50000_1</td>\n",
       "      <td>CUST1302</td>\n",
       "      <td>2022-01-12</td>\n",
       "      <td>Prod_104</td>\n",
       "      <td>2</td>\n",
       "      <td>43.15</td>\n",
       "      <td>86.30</td>\n",
       "    </tr>\n",
       "    <tr>\n",
       "      <th>2</th>\n",
       "      <td>TRX50000_2</td>\n",
       "      <td>CUST1302</td>\n",
       "      <td>2022-01-12</td>\n",
       "      <td>Prod_107</td>\n",
       "      <td>1</td>\n",
       "      <td>59.80</td>\n",
       "      <td>59.80</td>\n",
       "    </tr>\n",
       "    <tr>\n",
       "      <th>3</th>\n",
       "      <td>TRX50001_0</td>\n",
       "      <td>CUST1267</td>\n",
       "      <td>2023-10-17</td>\n",
       "      <td>Prod_108</td>\n",
       "      <td>1</td>\n",
       "      <td>214.31</td>\n",
       "      <td>214.31</td>\n",
       "    </tr>\n",
       "    <tr>\n",
       "      <th>4</th>\n",
       "      <td>TRX50001_1</td>\n",
       "      <td>CUST1267</td>\n",
       "      <td>2023-10-17</td>\n",
       "      <td>Prod_109</td>\n",
       "      <td>3</td>\n",
       "      <td>312.02</td>\n",
       "      <td>936.06</td>\n",
       "    </tr>\n",
       "  </tbody>\n",
       "</table>\n",
       "</div>"
      ],
      "text/plain": [
       "  TransactionID CustomerID TransactionDate ProductID  Quantity  UnitPrice  \\\n",
       "0    TRX50000_0   CUST1302      2022-01-12  Prod_107         3      53.74   \n",
       "1    TRX50000_1   CUST1302      2022-01-12  Prod_104         2      43.15   \n",
       "2    TRX50000_2   CUST1302      2022-01-12  Prod_107         1      59.80   \n",
       "3    TRX50001_0   CUST1267      2023-10-17  Prod_108         1     214.31   \n",
       "4    TRX50001_1   CUST1267      2023-10-17  Prod_109         3     312.02   \n",
       "\n",
       "   TotalPrice  \n",
       "0      161.22  \n",
       "1       86.30  \n",
       "2       59.80  \n",
       "3      214.31  \n",
       "4      936.06  "
      ]
     },
     "execution_count": 11,
     "metadata": {},
     "output_type": "execute_result"
    }
   ],
   "source": [
    "# Display the first few rows of the DataFrame\n",
    "df.head()"
   ]
  },
  {
   "cell_type": "code",
   "execution_count": 12,
   "id": "c9baf884",
   "metadata": {},
   "outputs": [
    {
     "name": "stdout",
     "output_type": "stream",
     "text": [
      "<class 'pandas.core.frame.DataFrame'>\n",
      "RangeIndex: 15143 entries, 0 to 15142\n",
      "Data columns (total 7 columns):\n",
      " #   Column           Non-Null Count  Dtype  \n",
      "---  ------           --------------  -----  \n",
      " 0   TransactionID    15143 non-null  object \n",
      " 1   CustomerID       15143 non-null  object \n",
      " 2   TransactionDate  15143 non-null  object \n",
      " 3   ProductID        15143 non-null  object \n",
      " 4   Quantity         15143 non-null  int64  \n",
      " 5   UnitPrice        15143 non-null  float64\n",
      " 6   TotalPrice       15143 non-null  float64\n",
      "dtypes: float64(2), int64(1), object(4)\n",
      "memory usage: 828.3+ KB\n"
     ]
    }
   ],
   "source": [
    "# Display basic information \n",
    "df.info() "
   ]
  },
  {
   "cell_type": "markdown",
   "id": "4a664e7f",
   "metadata": {},
   "source": [
    "📊 Data Overview\n",
    "Rows: 15,143 transactions\n",
    "\n",
    "Columns: 7\n",
    "\n",
    "TransactionID: Unique ID for each transaction\n",
    "\n",
    "CustomerID: Unique identifier for customers\n",
    "\n",
    "TransactionDate: Date of transaction (currently string)\n",
    "\n",
    "ProductID: Product purchased\n",
    "\n",
    "Quantity: Number of units bought\n",
    "\n",
    "UnitPrice: Price per unit\n",
    "\n",
    "TotalPrice: Quantity × UnitPrice\n",
    "\n"
   ]
  },
  {
   "cell_type": "markdown",
   "id": "79d0c150",
   "metadata": {},
   "source": [
    "✅ Next Step: Data Preparation\n",
    "We'll now:\n",
    "\n",
    "Convert TransactionDate to datetime.\n",
    "\n",
    "Check and handle any missing values or anomalies.\n",
    "\n",
    "Inspect data types and value distributions.\n"
   ]
  },
  {
   "cell_type": "code",
   "execution_count": 5,
   "id": "46f2e57e",
   "metadata": {},
   "outputs": [],
   "source": [
    "# Convert 'TransactionDate' to datetime\n",
    "df['TransactionDate'] = pd.to_datetime(df['TransactionDate'])"
   ]
  },
  {
   "cell_type": "code",
   "execution_count": 7,
   "id": "99b138f0",
   "metadata": {},
   "outputs": [
    {
     "data": {
      "text/plain": [
       "TransactionID      0\n",
       "CustomerID         0\n",
       "TransactionDate    0\n",
       "ProductID          0\n",
       "Quantity           0\n",
       "UnitPrice          0\n",
       "TotalPrice         0\n",
       "dtype: int64"
      ]
     },
     "execution_count": 7,
     "metadata": {},
     "output_type": "execute_result"
    }
   ],
   "source": [
    "# Check for missing values  \n",
    "df.isnull().sum()"
   ]
  },
  {
   "cell_type": "code",
   "execution_count": 9,
   "id": "b8b4d97a",
   "metadata": {},
   "outputs": [
    {
     "data": {
      "text/html": [
       "<div>\n",
       "<style scoped>\n",
       "    .dataframe tbody tr th:only-of-type {\n",
       "        vertical-align: middle;\n",
       "    }\n",
       "\n",
       "    .dataframe tbody tr th {\n",
       "        vertical-align: top;\n",
       "    }\n",
       "\n",
       "    .dataframe thead th {\n",
       "        text-align: right;\n",
       "    }\n",
       "</style>\n",
       "<table border=\"1\" class=\"dataframe\">\n",
       "  <thead>\n",
       "    <tr style=\"text-align: right;\">\n",
       "      <th></th>\n",
       "      <th>TransactionDate</th>\n",
       "      <th>Quantity</th>\n",
       "      <th>UnitPrice</th>\n",
       "      <th>TotalPrice</th>\n",
       "    </tr>\n",
       "  </thead>\n",
       "  <tbody>\n",
       "    <tr>\n",
       "      <th>count</th>\n",
       "      <td>15143</td>\n",
       "      <td>15143.000000</td>\n",
       "      <td>15143.000000</td>\n",
       "      <td>15143.000000</td>\n",
       "    </tr>\n",
       "    <tr>\n",
       "      <th>mean</th>\n",
       "      <td>2022-12-28 14:33:25.996169984</td>\n",
       "      <td>1.998349</td>\n",
       "      <td>103.732894</td>\n",
       "      <td>207.328918</td>\n",
       "    </tr>\n",
       "    <tr>\n",
       "      <th>min</th>\n",
       "      <td>2022-01-01 00:00:00</td>\n",
       "      <td>1.000000</td>\n",
       "      <td>1.220000</td>\n",
       "      <td>1.540000</td>\n",
       "    </tr>\n",
       "    <tr>\n",
       "      <th>25%</th>\n",
       "      <td>2022-06-27 12:00:00</td>\n",
       "      <td>1.000000</td>\n",
       "      <td>34.010000</td>\n",
       "      <td>58.740000</td>\n",
       "    </tr>\n",
       "    <tr>\n",
       "      <th>50%</th>\n",
       "      <td>2022-12-28 00:00:00</td>\n",
       "      <td>2.000000</td>\n",
       "      <td>76.970000</td>\n",
       "      <td>137.970000</td>\n",
       "    </tr>\n",
       "    <tr>\n",
       "      <th>75%</th>\n",
       "      <td>2023-07-01 00:00:00</td>\n",
       "      <td>3.000000</td>\n",
       "      <td>154.180000</td>\n",
       "      <td>285.340000</td>\n",
       "    </tr>\n",
       "    <tr>\n",
       "      <th>max</th>\n",
       "      <td>2023-12-30 00:00:00</td>\n",
       "      <td>3.000000</td>\n",
       "      <td>393.870000</td>\n",
       "      <td>1181.610000</td>\n",
       "    </tr>\n",
       "    <tr>\n",
       "      <th>std</th>\n",
       "      <td>NaN</td>\n",
       "      <td>0.818851</td>\n",
       "      <td>85.986186</td>\n",
       "      <td>203.743701</td>\n",
       "    </tr>\n",
       "  </tbody>\n",
       "</table>\n",
       "</div>"
      ],
      "text/plain": [
       "                     TransactionDate      Quantity     UnitPrice    TotalPrice\n",
       "count                          15143  15143.000000  15143.000000  15143.000000\n",
       "mean   2022-12-28 14:33:25.996169984      1.998349    103.732894    207.328918\n",
       "min              2022-01-01 00:00:00      1.000000      1.220000      1.540000\n",
       "25%              2022-06-27 12:00:00      1.000000     34.010000     58.740000\n",
       "50%              2022-12-28 00:00:00      2.000000     76.970000    137.970000\n",
       "75%              2023-07-01 00:00:00      3.000000    154.180000    285.340000\n",
       "max              2023-12-30 00:00:00      3.000000    393.870000   1181.610000\n",
       "std                              NaN      0.818851     85.986186    203.743701"
      ]
     },
     "execution_count": 9,
     "metadata": {},
     "output_type": "execute_result"
    }
   ],
   "source": [
    "# basic statistics for anomaly detection\n",
    "df.describe()"
   ]
  },
  {
   "cell_type": "code",
   "execution_count": null,
   "id": "07818f92",
   "metadata": {},
   "outputs": [
    {
     "name": "stdout",
     "output_type": "stream",
     "text": [
      "Number of duplicate transactions: 0\n"
     ]
    }
   ],
   "source": [
    "\n",
    "# Check for duplicate transactions\n",
    "duplicates = df.duplicated().sum()\n",
    "# Display the number of duplicate transactions\n",
    "print(f\"Number of duplicate transactions: {duplicates}\")\n",
    "# Remove duplicate transactions if any\n",
    "if duplicates > 0:\n",
    "    df = df.drop_duplicates()\n",
    "    print(\"Duplicate transactions removed.\")"
   ]
  },
  {
   "cell_type": "markdown",
   "id": "7fd33e96",
   "metadata": {},
   "source": [
    "🧹 Data Preparation Summary\n",
    "✅ No missing values — all columns are complete.\n",
    "\n",
    "📅 Date conversion successful — TransactionDate is now in datetime format.\n",
    "\n",
    "📈 Basic Stats Check:\n",
    "\n",
    "Quantity ranges from 1 to 3.\n",
    "\n",
    "UnitPrice ranges from $1.22 to $393.87, and TotalPrice from $1.54 to $1,181.61 — no obvious outliers for small-scale retail."
   ]
  },
  {
   "cell_type": "markdown",
   "id": "e0e29baa",
   "metadata": {},
   "source": [
    "✅ Next Step: RFM Feature Engineering\n",
    "We'll calculate:\n",
    "\n",
    "Recency = Days since last purchase (relative to a reference date)\n",
    "\n",
    "Frequency = Number of purchases\n",
    "\n",
    "Monetary = Total spending"
   ]
  },
  {
   "cell_type": "code",
   "execution_count": 4,
   "id": "6dc695a9",
   "metadata": {},
   "outputs": [
    {
     "data": {
      "text/html": [
       "<div>\n",
       "<style scoped>\n",
       "    .dataframe tbody tr th:only-of-type {\n",
       "        vertical-align: middle;\n",
       "    }\n",
       "\n",
       "    .dataframe tbody tr th {\n",
       "        vertical-align: top;\n",
       "    }\n",
       "\n",
       "    .dataframe thead th {\n",
       "        text-align: right;\n",
       "    }\n",
       "</style>\n",
       "<table border=\"1\" class=\"dataframe\">\n",
       "  <thead>\n",
       "    <tr style=\"text-align: right;\">\n",
       "      <th></th>\n",
       "      <th>CustomerID</th>\n",
       "      <th>Recency</th>\n",
       "      <th>Frequency</th>\n",
       "      <th>Monetary</th>\n",
       "    </tr>\n",
       "  </thead>\n",
       "  <tbody>\n",
       "    <tr>\n",
       "      <th>0</th>\n",
       "      <td>CUST1000</td>\n",
       "      <td>9</td>\n",
       "      <td>41</td>\n",
       "      <td>6855.79</td>\n",
       "    </tr>\n",
       "    <tr>\n",
       "      <th>1</th>\n",
       "      <td>CUST1001</td>\n",
       "      <td>49</td>\n",
       "      <td>10</td>\n",
       "      <td>2856.43</td>\n",
       "    </tr>\n",
       "    <tr>\n",
       "      <th>2</th>\n",
       "      <td>CUST1002</td>\n",
       "      <td>7</td>\n",
       "      <td>25</td>\n",
       "      <td>2175.73</td>\n",
       "    </tr>\n",
       "    <tr>\n",
       "      <th>3</th>\n",
       "      <td>CUST1003</td>\n",
       "      <td>22</td>\n",
       "      <td>33</td>\n",
       "      <td>1085.57</td>\n",
       "    </tr>\n",
       "    <tr>\n",
       "      <th>4</th>\n",
       "      <td>CUST1004</td>\n",
       "      <td>134</td>\n",
       "      <td>27</td>\n",
       "      <td>6887.81</td>\n",
       "    </tr>\n",
       "  </tbody>\n",
       "</table>\n",
       "</div>"
      ],
      "text/plain": [
       "  CustomerID  Recency  Frequency  Monetary\n",
       "0   CUST1000        9         41   6855.79\n",
       "1   CUST1001       49         10   2856.43\n",
       "2   CUST1002        7         25   2175.73\n",
       "3   CUST1003       22         33   1085.57\n",
       "4   CUST1004      134         27   6887.81"
      ]
     },
     "execution_count": 4,
     "metadata": {},
     "output_type": "execute_result"
    }
   ],
   "source": [
    "# Reference date: 1 day after the latest transaction\n",
    "reference_date = df['TransactionDate'].max() + pd.Timedelta(days=1)\n",
    "\n",
    "# Group by CustomerID to compute RFM\n",
    "rfm = df.groupby('CustomerID').agg({\n",
    "    'TransactionDate': lambda x: (reference_date - x.max()).days,  # Recency\n",
    "    'TransactionID': 'nunique',                                     # Frequency\n",
    "    'TotalPrice': 'sum'                                             # Monetary\n",
    "}).reset_index()\n",
    "\n",
    "# Rename columns\n",
    "rfm.columns = ['CustomerID', 'Recency', 'Frequency', 'Monetary']\n",
    "\n",
    "rfm.head()\n"
   ]
  },
  {
   "cell_type": "markdown",
   "id": "636a11e6",
   "metadata": {},
   "source": [
    "- Recency: Smaller is better (more recent)\n",
    "\n",
    "- Frequency: Higher = more loyal\n",
    "\n",
    "- Monetary: Higher = higher value"
   ]
  },
  {
   "cell_type": "markdown",
   "id": "66fc0aeb",
   "metadata": {},
   "source": [
    "🔍 Next Step: Exploratory Analysis & Scaling\n",
    "We’ll:\n",
    "\n",
    "Plot distributions of R, F, M (check skewness)\n",
    "\n",
    "Log-transform if needed\n",
    "\n",
    "Scale features for clustering"
   ]
  }
 ],
 "metadata": {
  "kernelspec": {
   "display_name": "ml_env",
   "language": "python",
   "name": "python3"
  },
  "language_info": {
   "codemirror_mode": {
    "name": "ipython",
    "version": 3
   },
   "file_extension": ".py",
   "mimetype": "text/x-python",
   "name": "python",
   "nbconvert_exporter": "python",
   "pygments_lexer": "ipython3",
   "version": "3.10.16"
  }
 },
 "nbformat": 4,
 "nbformat_minor": 5
}
